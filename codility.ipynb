{
 "cells": [
  {
   "cell_type": "code",
   "execution_count": 3,
   "metadata": {},
   "outputs": [],
   "source": [
    "import tensorflow as tf\n",
    "\n",
    "\n",
    "def huber_loss(y_true, y_pred):\n",
    "    '''\n",
    "    From Tensorflow documentation, the implementation of this formula is as follows:\n",
    "    for x in error:\n",
    "    if abs(x) <= delta:\n",
    "        loss.append(0.5 * x^2)\n",
    "    elif abs(x) > delta:\n",
    "        loss.append(delta * abs(x) - 0.5 * delta^2)\n",
    "\n",
    "    loss = mean(loss, axis=-1)\n",
    "\n",
    "    Here, we're just calculating the loss, not adding to a model training algorithm\n",
    "        so no append necessary, neither is elif\n",
    "\n",
    "    From problem instructions, assume delta = 1\n",
    "    If/else would work and is more readable to SWEs not familiar with deep learning\n",
    "        frameworks, but then you run the code needlessly every time the forward pass\n",
    "        is conducted when an inline function would run the necessary line only once\n",
    "        so, per problem instructions, using tf.where()\n",
    "    '''\n",
    "    delta = 1\n",
    "    abs_error = tf.abs(y_true - y_pred)\n",
    "    linear_loss = delta * (abs_error - 0.5 * delta)\n",
    "    quadratic_loss = 0.5 * (abs_error**2)\n",
    "    return tf.where(abs_error <= delta, quadratic_loss, linear_loss)"
   ]
  },
  {
   "cell_type": "code",
   "execution_count": 4,
   "metadata": {},
   "outputs": [
    {
     "name": "stdout",
     "output_type": "stream",
     "text": [
      "tf.Tensor([0.    0.125 1.5  ], shape=(3,), dtype=float64)\n"
     ]
    }
   ],
   "source": [
    "import numpy as np\n",
    "\n",
    "true = np.array([-10, 1, 2])\n",
    "pred = np.array([-10, 1.5, 4])\n",
    "\n",
    "loss = huber_loss(true, pred)\n",
    "print(loss)\n"
   ]
  }
 ],
 "metadata": {
  "kernelspec": {
   "display_name": "py3-10-ml-env-C8y3MhrL-py3.10",
   "language": "python",
   "name": "python3"
  },
  "language_info": {
   "codemirror_mode": {
    "name": "ipython",
    "version": 3
   },
   "file_extension": ".py",
   "mimetype": "text/x-python",
   "name": "python",
   "nbconvert_exporter": "python",
   "pygments_lexer": "ipython3",
   "version": "3.10.12"
  }
 },
 "nbformat": 4,
 "nbformat_minor": 2
}
