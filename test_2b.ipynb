{
 "cells": [
  {
   "cell_type": "markdown",
   "id": "becbb886",
   "metadata": {},
   "source": [
    "## Intermediate Deep Learning Test 2b\n",
    "Per Piazza post allowing a Python script, the following code calculates the FID scores for 2 sets of fake images and determines the best set.\n",
    "\n",
    "The code follows this equation:\n",
    "$$\n",
    "\\text{FID}(\\mu_r, \\Sigma_r, \\mu_g, \\Sigma_g) = \\|\\mu_r - \\mu_g\\|^2 + \\text{Tr}\\left(\\Sigma_r + \\Sigma_g - 2(\\Sigma_r \\Sigma_g)^{\\frac{1}{2}}\\right)\n",
    "$$"
   ]
  },
  {
   "cell_type": "code",
   "execution_count": 4,
   "id": "bc9692ae",
   "metadata": {},
   "outputs": [
    {
     "name": "stdout",
     "output_type": "stream",
     "text": [
      "FID between Real and Fake Set I: 0.2811\n",
      "FID between Real and Fake Set II: 0.3044\n",
      "\n",
      "Based on FID score, Fake Image Set I is better\n"
     ]
    }
   ],
   "source": [
    "import numpy as np\n",
    "from scipy.linalg import sqrtm\n",
    "\n",
    "# Real image statistics\n",
    "mu_real = np.array([0.5, 0.2, 0.7, 0.4])\n",
    "sigma_real = np.array([\n",
    "    [0.2, 0.1, 0.05, 0.02],\n",
    "    [0.1, 0.3, 0.1, 0.05],\n",
    "    [0.05, 0.1, 0.4, 0.1],\n",
    "    [0.02, 0.05, 0.1, 0.2]\n",
    "])\n",
    "\n",
    "# Fake set I statistics\n",
    "mu1 = np.array([0.4, 0.3, 0.5, 0.6])\n",
    "sigma1 = np.array([\n",
    "    [0.7, 0.1, 0.05, 0.02],\n",
    "    [0.1, 0.2, 0.1, 0.05],\n",
    "    [0.05, 0.1, 0.3, 0.1],\n",
    "    [0.02, 0.05, 0.1, 0.15]\n",
    "])\n",
    "\n",
    "# Fake set II statistics\n",
    "mu2 = np.array([0.7, 0.1, 0.3, 0.5])\n",
    "sigma2 = np.array([\n",
    "    [0.4, 0.05, 0.05, 0.01],\n",
    "    [0.05, 0.3, 0.1, 0.05],\n",
    "    [0.05, 0.1, 0.2, 0.05],\n",
    "    [0.01, 0.05, 0.05, 0.2]\n",
    "])\n",
    "\n",
    "def calculate_fid(real_mu, real_sigma, x_mu, x_sigma):\n",
    "    diff = real_mu - x_mu # calculate difference\n",
    "    mean_diff = np.sum(diff**2) # matrix mean distance\n",
    "    \n",
    "    # Matrix square root of product of covariances\n",
    "    covmean, _ = sqrtm(real_sigma @ x_sigma, disp=False)\n",
    "\n",
    "    fid = mean_diff + np.trace(real_sigma + x_sigma - 2 * covmean) # sum of squared differences + sum along diagonals\n",
    "    return fid\n",
    "\n",
    "# Calculate FIDs\n",
    "fid1 = calculate_fid(mu_real, sigma_real, mu1, sigma1)\n",
    "fid2 = calculate_fid(mu_real, sigma_real, mu2, sigma2)\n",
    "\n",
    "print(f\"FID between Real and Fake Set I: {fid1:.4f}\")\n",
    "print(f\"FID between Real and Fake Set II: {fid2:.4f}\")\n",
    "\n",
    "# Determine better set\n",
    "better = \"Set I\" if fid1 < fid2 else \"Set II\"\n",
    "print(f\"\\nBased on FID score, Fake Image {better} is better\")\n"
   ]
  }
 ],
 "metadata": {
  "kernelspec": {
   "display_name": "py3-10-ml-env-C8y3MhrL-py3.10",
   "language": "python",
   "name": "python3"
  },
  "language_info": {
   "codemirror_mode": {
    "name": "ipython",
    "version": 3
   },
   "file_extension": ".py",
   "mimetype": "text/x-python",
   "name": "python",
   "nbconvert_exporter": "python",
   "pygments_lexer": "ipython3",
   "version": "3.10.12"
  }
 },
 "nbformat": 4,
 "nbformat_minor": 5
}
